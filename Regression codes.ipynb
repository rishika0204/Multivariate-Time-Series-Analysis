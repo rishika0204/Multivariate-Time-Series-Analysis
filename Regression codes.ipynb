{
 "cells": [
  {
   "cell_type": "code",
   "execution_count": 1,
   "metadata": {},
   "outputs": [],
   "source": [
    "import numpy as np\n",
    "import pandas as pd\n",
    "import cv2\n",
    "\n",
    "from sklearn.model_selection import train_test_split\n",
    "from sklearn.linear_model import LinearRegression\n",
    "from sklearn.ensemble import RandomForestRegressor,AdaBoostRegressor,ExtraTreesRegressor\n",
    "# from sklearn.metrics import mean_squared_error, r2_score\n",
    "from sklearn.metrics import mean_squared_error, mean_absolute_error\n",
    "\n",
    "from sklearn.metrics import accuracy_score"
   ]
  },
  {
   "cell_type": "code",
   "execution_count": 2,
   "metadata": {},
   "outputs": [],
   "source": [
    "df=pd.read_csv(\"./weatherHistory.csv\")\n"
   ]
  },
  {
   "cell_type": "code",
   "execution_count": 3,
   "metadata": {},
   "outputs": [
    {
     "data": {
      "text/html": [
       "<div>\n",
       "<style scoped>\n",
       "    .dataframe tbody tr th:only-of-type {\n",
       "        vertical-align: middle;\n",
       "    }\n",
       "\n",
       "    .dataframe tbody tr th {\n",
       "        vertical-align: top;\n",
       "    }\n",
       "\n",
       "    .dataframe thead th {\n",
       "        text-align: right;\n",
       "    }\n",
       "</style>\n",
       "<table border=\"1\" class=\"dataframe\">\n",
       "  <thead>\n",
       "    <tr style=\"text-align: right;\">\n",
       "      <th></th>\n",
       "      <th>Formatted_Date</th>\n",
       "      <th>Summary</th>\n",
       "      <th>Precip_Type</th>\n",
       "      <th>Temperature_(C)</th>\n",
       "      <th>Apparent_Temperature_(C)</th>\n",
       "      <th>Humidity</th>\n",
       "      <th>Wind_Speed_(km/h)</th>\n",
       "      <th>Wind_Bearing_(degrees)</th>\n",
       "      <th>Visibility_(km)</th>\n",
       "      <th>Loud_Cover</th>\n",
       "      <th>Pressure_(millibars)</th>\n",
       "      <th>Daily_Summary</th>\n",
       "    </tr>\n",
       "  </thead>\n",
       "  <tbody>\n",
       "    <tr>\n",
       "      <th>0</th>\n",
       "      <td>2006-04-01 00:00:00.000 +0200</td>\n",
       "      <td>Partly Cloudy</td>\n",
       "      <td>rain</td>\n",
       "      <td>9.472222</td>\n",
       "      <td>7.388889</td>\n",
       "      <td>0.89</td>\n",
       "      <td>14.1197</td>\n",
       "      <td>251.0</td>\n",
       "      <td>15.8263</td>\n",
       "      <td>0.0</td>\n",
       "      <td>1015.13</td>\n",
       "      <td>Partly cloudy throughout the day.</td>\n",
       "    </tr>\n",
       "    <tr>\n",
       "      <th>1</th>\n",
       "      <td>2006-04-01 01:00:00.000 +0200</td>\n",
       "      <td>Partly Cloudy</td>\n",
       "      <td>rain</td>\n",
       "      <td>9.355556</td>\n",
       "      <td>7.227778</td>\n",
       "      <td>0.86</td>\n",
       "      <td>14.2646</td>\n",
       "      <td>259.0</td>\n",
       "      <td>15.8263</td>\n",
       "      <td>0.0</td>\n",
       "      <td>1015.63</td>\n",
       "      <td>Partly cloudy throughout the day.</td>\n",
       "    </tr>\n",
       "  </tbody>\n",
       "</table>\n",
       "</div>"
      ],
      "text/plain": [
       "                  Formatted_Date        Summary Precip_Type  Temperature_(C)  \\\n",
       "0  2006-04-01 00:00:00.000 +0200  Partly Cloudy        rain         9.472222   \n",
       "1  2006-04-01 01:00:00.000 +0200  Partly Cloudy        rain         9.355556   \n",
       "\n",
       "   Apparent_Temperature_(C)  Humidity  Wind_Speed_(km/h)  \\\n",
       "0                  7.388889      0.89            14.1197   \n",
       "1                  7.227778      0.86            14.2646   \n",
       "\n",
       "   Wind_Bearing_(degrees)  Visibility_(km)  Loud_Cover  Pressure_(millibars)  \\\n",
       "0                   251.0          15.8263         0.0               1015.13   \n",
       "1                   259.0          15.8263         0.0               1015.63   \n",
       "\n",
       "                       Daily_Summary  \n",
       "0  Partly cloudy throughout the day.  \n",
       "1  Partly cloudy throughout the day.  "
      ]
     },
     "execution_count": 3,
     "metadata": {},
     "output_type": "execute_result"
    }
   ],
   "source": [
    "df.columns=df.columns.str.replace(\" \",\"_\")\n",
    "df.head(2)"
   ]
  },
  {
   "cell_type": "code",
   "execution_count": 4,
   "metadata": {},
   "outputs": [
    {
     "name": "stdout",
     "output_type": "stream",
     "text": [
      "       Year  Month  Day  Hour  Minute  Second        Summary Precip_Type  \\\n",
      "0      2006      3   31    22       0       0  Partly Cloudy        rain   \n",
      "1      2006      3   31    23       0       0  Partly Cloudy        rain   \n",
      "2      2006      4    1     0       0       0  Mostly Cloudy        rain   \n",
      "3      2006      4    1     1       0       0  Partly Cloudy        rain   \n",
      "4      2006      4    1     2       0       0  Mostly Cloudy        rain   \n",
      "...     ...    ...  ...   ...     ...     ...            ...         ...   \n",
      "96448  2016      9    9    17       0       0  Partly Cloudy        rain   \n",
      "96449  2016      9    9    18       0       0  Partly Cloudy        rain   \n",
      "96450  2016      9    9    19       0       0  Partly Cloudy        rain   \n",
      "96451  2016      9    9    20       0       0  Partly Cloudy        rain   \n",
      "96452  2016      9    9    21       0       0  Partly Cloudy        rain   \n",
      "\n",
      "       Temperature_(C)  Apparent_Temperature_(C)  Humidity  Wind_Speed_(km/h)  \\\n",
      "0             9.472222                  7.388889      0.89            14.1197   \n",
      "1             9.355556                  7.227778      0.86            14.2646   \n",
      "2             9.377778                  9.377778      0.89             3.9284   \n",
      "3             8.288889                  5.944444      0.83            14.1036   \n",
      "4             8.755556                  6.977778      0.83            11.0446   \n",
      "...                ...                       ...       ...                ...   \n",
      "96448        26.016667                 26.016667      0.43            10.9963   \n",
      "96449        24.583333                 24.583333      0.48            10.0947   \n",
      "96450        22.038889                 22.038889      0.56             8.9838   \n",
      "96451        21.522222                 21.522222      0.60            10.5294   \n",
      "96452        20.438889                 20.438889      0.61             5.8765   \n",
      "\n",
      "       Wind_Bearing_(degrees)  Visibility_(km)  Loud_Cover  \\\n",
      "0                       251.0          15.8263         0.0   \n",
      "1                       259.0          15.8263         0.0   \n",
      "2                       204.0          14.9569         0.0   \n",
      "3                       269.0          15.8263         0.0   \n",
      "4                       259.0          15.8263         0.0   \n",
      "...                       ...              ...         ...   \n",
      "96448                    31.0          16.1000         0.0   \n",
      "96449                    20.0          15.5526         0.0   \n",
      "96450                    30.0          16.1000         0.0   \n",
      "96451                    20.0          16.1000         0.0   \n",
      "96452                    39.0          15.5204         0.0   \n",
      "\n",
      "       Pressure_(millibars)                           Daily_Summary  \n",
      "0                   1015.13       Partly cloudy throughout the day.  \n",
      "1                   1015.63       Partly cloudy throughout the day.  \n",
      "2                   1015.94       Partly cloudy throughout the day.  \n",
      "3                   1016.41       Partly cloudy throughout the day.  \n",
      "4                   1016.51       Partly cloudy throughout the day.  \n",
      "...                     ...                                     ...  \n",
      "96448               1014.36  Partly cloudy starting in the morning.  \n",
      "96449               1015.16  Partly cloudy starting in the morning.  \n",
      "96450               1015.66  Partly cloudy starting in the morning.  \n",
      "96451               1015.95  Partly cloudy starting in the morning.  \n",
      "96452               1016.16  Partly cloudy starting in the morning.  \n",
      "\n",
      "[96453 rows x 17 columns]\n"
     ]
    }
   ],
   "source": [
    "\n",
    "df['Formatted_Date'] = pd.to_datetime(df['Formatted_Date'], utc=True)\n",
    "df1 = df.copy()\n",
    "df1['Year'] = df1['Formatted_Date'].dt.year\n",
    "df1['Month'] = df1['Formatted_Date'].dt.month\n",
    "df1['Day'] = df1['Formatted_Date'].dt.day\n",
    "df1['Hour'] = df1['Formatted_Date'].dt.hour\n",
    "df1['Minute'] = df1['Formatted_Date'].dt.minute\n",
    "df1['Second'] = df1['Formatted_Date'].dt.second\n",
    "df1.drop(columns=['Formatted_Date'], inplace=True)\n",
    "column_order = ['Year', 'Month', 'Day', 'Hour', 'Minute', 'Second'] + [col for col in df1.columns if col not in ['Year', 'Month', 'Day', 'Hour', 'Minute', 'Second']]\n",
    "df1 = df1[column_order]\n",
    "print(df1)"
   ]
  },
  {
   "cell_type": "code",
   "execution_count": 5,
   "metadata": {},
   "outputs": [
    {
     "name": "stdout",
     "output_type": "stream",
     "text": [
      "   Year  Month  Day  Hour  Minute  Second        Summary Precip_Type  \\\n",
      "0  2006      3   31    22       0       0  Partly Cloudy        rain   \n",
      "1  2006      3   31    23       0       0  Partly Cloudy        rain   \n",
      "\n",
      "   Temperature_(C)  Apparent_Temperature_(C)  Humidity  Wind_Speed_(km/h)  \\\n",
      "0         9.472222                  7.388889      0.89            14.1197   \n",
      "1         9.355556                  7.227778      0.86            14.2646   \n",
      "\n",
      "   Wind_Bearing_(degrees)  Visibility_(km)  Loud_Cover  Pressure_(millibars)  \\\n",
      "0                   251.0          15.8263         0.0               1015.13   \n",
      "1                   259.0          15.8263         0.0               1015.63   \n",
      "\n",
      "                       Daily_Summary  \n",
      "0  Partly cloudy throughout the day.  \n",
      "1  Partly cloudy throughout the day.  \n"
     ]
    }
   ],
   "source": [
    "print(df1.head(2))"
   ]
  },
  {
   "cell_type": "code",
   "execution_count": 6,
   "metadata": {},
   "outputs": [],
   "source": [
    "df1= df1.drop('Daily_Summary',axis = 1)\n",
    "df1 = df1.drop('Precip_Type',axis = 1)"
   ]
  },
  {
   "cell_type": "code",
   "execution_count": 7,
   "metadata": {},
   "outputs": [
    {
     "name": "stdout",
     "output_type": "stream",
     "text": [
      "['Partly Cloudy' 'Mostly Cloudy' 'Overcast' 'Foggy'\n",
      " 'Breezy and Mostly Cloudy' 'Clear' 'Breezy and Partly Cloudy'\n",
      " 'Breezy and Overcast' 'Humid and Mostly Cloudy' 'Humid and Partly Cloudy'\n",
      " 'Windy and Foggy' 'Windy and Overcast' 'Breezy and Foggy'\n",
      " 'Windy and Partly Cloudy' 'Breezy' 'Dry and Partly Cloudy'\n",
      " 'Windy and Mostly Cloudy' 'Dangerously Windy and Partly Cloudy' 'Dry'\n",
      " 'Windy' 'Humid and Overcast' 'Light Rain' 'Drizzle' 'Windy and Dry'\n",
      " 'Dry and Mostly Cloudy' 'Breezy and Dry' 'Rain']\n"
     ]
    }
   ],
   "source": [
    "arr = df1['Summary'].unique()\n",
    "print(arr)\n",
    "\n",
    "dict = {'Partly Cloudy':1, 'Mostly Cloudy':2, 'Overcast':3, 'Foggy':4,\n",
    " 'Breezy and Mostly Cloudy':5, 'Clear':6,'Breezy and Partly Cloudy':7,\n",
    " 'Breezy and Overcast':8, 'Humid and Mostly Cloudy':9,'Humid and Partly Cloudy':10,\n",
    " 'Windy and Foggy':11, 'Windy and Overcast':12, 'Breezy and Foggy':13,\n",
    " 'Windy and Partly Cloudy':14, 'Breezy':15, 'Dry and Partly Cloudy':16,\n",
    " 'Windy and Mostly Cloudy':17, 'Dangerously Windy and Partly Cloudy':18, 'Dry':19,\n",
    " 'Windy':20, 'Humid and Overcast':21,'Light Rain':22, 'Drizzle':23, 'Windy and Dry':24,\n",
    " 'Dry and Mostly Cloudy':25, 'Breezy and Dry':26, 'Rain':27}"
   ]
  },
  {
   "cell_type": "code",
   "execution_count": 8,
   "metadata": {},
   "outputs": [],
   "source": [
    "df1['Summary'] = df1['Summary'].map(dict)"
   ]
  },
  {
   "cell_type": "code",
   "execution_count": 9,
   "metadata": {},
   "outputs": [
    {
     "name": "stdout",
     "output_type": "stream",
     "text": [
      "MSE (Linear Regression): 0.90, MAE (Linear Regression): 0.74\n",
      "MSE (Random Forest): 0.60, MAE (Random Forest): 0.51\n",
      "MSE (Adaboost): 1.03, MAE (Adaboost): 0.82\n",
      "MSE (Extra Random Forests): 0.00, MAE (Extra Random Forests): 0.02\n"
     ]
    }
   ],
   "source": [
    "# Split the data into training and testing sets (80% for training, 20% for testing)\n",
    "\n",
    "X = df1.drop('Temperature_(C)', axis=1)\n",
    "y = df1['Temperature_(C)']\n",
    "\n",
    "# print(X)\n",
    "\n",
    "X_train, X_test, y_train, y_test = train_test_split(X, y, test_size=0.2, random_state=42)\n",
    "\n",
    "# Create and train a multiple linear regression model\n",
    "model = LinearRegression()\n",
    "rf_model = RandomForestRegressor(n_estimators=100, max_depth=5)\n",
    "adaBoost_model = AdaBoostRegressor(n_estimators=100)\n",
    "extraTrees_model = ExtraTreesRegressor(n_estimators=100,random_state= 0)\n",
    "\n",
    "model.fit(X_train, y_train)\n",
    "rf_model.fit(X_train, y_train)\n",
    "adaBoost_model.fit(X_train, y_train)\n",
    "extraTrees_model.fit(X_train,y_train)\n",
    "\n",
    "\n",
    "# Make predictions on the testing set\n",
    "y_pred = model.predict(X_test)\n",
    "rf_y_pred = rf_model.predict(X_test)\n",
    "adaBoost_y_pred = adaBoost_model.predict(X_test)\n",
    "extraTrees_y_pred = extraTrees_model.predict(X_test)\n",
    "# Evaluate the model\n",
    "\n",
    "rf_mse = mean_squared_error(y_test,rf_y_pred)\n",
    "rf_mae = mean_absolute_error(y_test,rf_y_pred)\n",
    "mse = mean_squared_error(y_test, y_pred)\n",
    "mae = mean_absolute_error(y_test, y_pred)\n",
    "adaBoost_mse = mean_squared_error(y_test,adaBoost_y_pred)\n",
    "adaBoost_mae = mean_absolute_error(y_test,adaBoost_y_pred)\n",
    "extraTrees_mse = mean_squared_error(y_test,extraTrees_y_pred)\n",
    "extraTrees_mae = mean_absolute_error(y_test,extraTrees_y_pred)\n",
    "\n",
    "\n",
    "print(f'MSE (Linear Regression): {mse:.2f}, MAE (Linear Regression): {mae:.2f}')\n",
    "print(f'MSE (Random Forest): {rf_mse:.2f}, MAE (Random Forest): {rf_mae:.2f}')\n",
    "print(f'MSE (Adaboost): {adaBoost_mse:.2f}, MAE (Adaboost): {adaBoost_mae:.2f}')\n",
    "print(f'MSE (Extra Random Forests): {extraTrees_mse:.2f}, MAE (Extra Random Forests): {extraTrees_mae:.2f}')"
   ]
  }
 ],
 "metadata": {
  "kernelspec": {
   "display_name": "Python 3",
   "language": "python",
   "name": "python3"
  },
  "language_info": {
   "codemirror_mode": {
    "name": "ipython",
    "version": 3
   },
   "file_extension": ".py",
   "mimetype": "text/x-python",
   "name": "python",
   "nbconvert_exporter": "python",
   "pygments_lexer": "ipython3",
   "version": "3.10.4"
  }
 },
 "nbformat": 4,
 "nbformat_minor": 2
}
