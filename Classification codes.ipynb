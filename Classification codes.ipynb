{
 "cells": [
  {
   "cell_type": "code",
   "execution_count": 1,
   "id": "e64eccd3",
   "metadata": {
    "metadata": {}
   },
   "outputs": [
    {
     "name": "stdout",
     "output_type": "stream",
     "text": [
      "Number of rows: 96453\n",
      "Number of columns: 12\n",
      "['Formatted Date', 'Summary', 'Precip Type', 'Temperature (C)', 'Apparent Temperature (C)', 'Humidity', 'Wind Speed (km/h)', 'Wind Bearing (degrees)', 'Visibility (km)', 'Loud Cover', 'Pressure (millibars)', 'Daily Summary']\n"
     ]
    },
    {
     "data": {
      "text/html": [
       "<div>\n",
       "<style scoped>\n",
       "    .dataframe tbody tr th:only-of-type {\n",
       "        vertical-align: middle;\n",
       "    }\n",
       "\n",
       "    .dataframe tbody tr th {\n",
       "        vertical-align: top;\n",
       "    }\n",
       "\n",
       "    .dataframe thead th {\n",
       "        text-align: right;\n",
       "    }\n",
       "</style>\n",
       "<table border=\"1\" class=\"dataframe\">\n",
       "  <thead>\n",
       "    <tr style=\"text-align: right;\">\n",
       "      <th></th>\n",
       "      <th>Formatted Date</th>\n",
       "      <th>Summary</th>\n",
       "      <th>Precip Type</th>\n",
       "      <th>Temperature (C)</th>\n",
       "      <th>Apparent Temperature (C)</th>\n",
       "      <th>Humidity</th>\n",
       "      <th>Wind Speed (km/h)</th>\n",
       "      <th>Wind Bearing (degrees)</th>\n",
       "      <th>Visibility (km)</th>\n",
       "      <th>Loud Cover</th>\n",
       "      <th>Pressure (millibars)</th>\n",
       "      <th>Daily Summary</th>\n",
       "    </tr>\n",
       "  </thead>\n",
       "  <tbody>\n",
       "    <tr>\n",
       "      <th>0</th>\n",
       "      <td>2006-04-01 00:00:00.000 +0200</td>\n",
       "      <td>Partly Cloudy</td>\n",
       "      <td>rain</td>\n",
       "      <td>9.472222</td>\n",
       "      <td>7.388889</td>\n",
       "      <td>0.89</td>\n",
       "      <td>14.1197</td>\n",
       "      <td>251.0</td>\n",
       "      <td>15.8263</td>\n",
       "      <td>0.0</td>\n",
       "      <td>1015.13</td>\n",
       "      <td>Partly cloudy throughout the day.</td>\n",
       "    </tr>\n",
       "    <tr>\n",
       "      <th>1</th>\n",
       "      <td>2006-04-01 01:00:00.000 +0200</td>\n",
       "      <td>Partly Cloudy</td>\n",
       "      <td>rain</td>\n",
       "      <td>9.355556</td>\n",
       "      <td>7.227778</td>\n",
       "      <td>0.86</td>\n",
       "      <td>14.2646</td>\n",
       "      <td>259.0</td>\n",
       "      <td>15.8263</td>\n",
       "      <td>0.0</td>\n",
       "      <td>1015.63</td>\n",
       "      <td>Partly cloudy throughout the day.</td>\n",
       "    </tr>\n",
       "    <tr>\n",
       "      <th>2</th>\n",
       "      <td>2006-04-01 02:00:00.000 +0200</td>\n",
       "      <td>Mostly Cloudy</td>\n",
       "      <td>rain</td>\n",
       "      <td>9.377778</td>\n",
       "      <td>9.377778</td>\n",
       "      <td>0.89</td>\n",
       "      <td>3.9284</td>\n",
       "      <td>204.0</td>\n",
       "      <td>14.9569</td>\n",
       "      <td>0.0</td>\n",
       "      <td>1015.94</td>\n",
       "      <td>Partly cloudy throughout the day.</td>\n",
       "    </tr>\n",
       "    <tr>\n",
       "      <th>3</th>\n",
       "      <td>2006-04-01 03:00:00.000 +0200</td>\n",
       "      <td>Partly Cloudy</td>\n",
       "      <td>rain</td>\n",
       "      <td>8.288889</td>\n",
       "      <td>5.944444</td>\n",
       "      <td>0.83</td>\n",
       "      <td>14.1036</td>\n",
       "      <td>269.0</td>\n",
       "      <td>15.8263</td>\n",
       "      <td>0.0</td>\n",
       "      <td>1016.41</td>\n",
       "      <td>Partly cloudy throughout the day.</td>\n",
       "    </tr>\n",
       "    <tr>\n",
       "      <th>4</th>\n",
       "      <td>2006-04-01 04:00:00.000 +0200</td>\n",
       "      <td>Mostly Cloudy</td>\n",
       "      <td>rain</td>\n",
       "      <td>8.755556</td>\n",
       "      <td>6.977778</td>\n",
       "      <td>0.83</td>\n",
       "      <td>11.0446</td>\n",
       "      <td>259.0</td>\n",
       "      <td>15.8263</td>\n",
       "      <td>0.0</td>\n",
       "      <td>1016.51</td>\n",
       "      <td>Partly cloudy throughout the day.</td>\n",
       "    </tr>\n",
       "  </tbody>\n",
       "</table>\n",
       "</div>"
      ],
      "text/plain": [
       "                  Formatted Date        Summary Precip Type  Temperature (C)  \\\n",
       "0  2006-04-01 00:00:00.000 +0200  Partly Cloudy        rain         9.472222   \n",
       "1  2006-04-01 01:00:00.000 +0200  Partly Cloudy        rain         9.355556   \n",
       "2  2006-04-01 02:00:00.000 +0200  Mostly Cloudy        rain         9.377778   \n",
       "3  2006-04-01 03:00:00.000 +0200  Partly Cloudy        rain         8.288889   \n",
       "4  2006-04-01 04:00:00.000 +0200  Mostly Cloudy        rain         8.755556   \n",
       "\n",
       "   Apparent Temperature (C)  Humidity  Wind Speed (km/h)  \\\n",
       "0                  7.388889      0.89            14.1197   \n",
       "1                  7.227778      0.86            14.2646   \n",
       "2                  9.377778      0.89             3.9284   \n",
       "3                  5.944444      0.83            14.1036   \n",
       "4                  6.977778      0.83            11.0446   \n",
       "\n",
       "   Wind Bearing (degrees)  Visibility (km)  Loud Cover  Pressure (millibars)  \\\n",
       "0                   251.0          15.8263         0.0               1015.13   \n",
       "1                   259.0          15.8263         0.0               1015.63   \n",
       "2                   204.0          14.9569         0.0               1015.94   \n",
       "3                   269.0          15.8263         0.0               1016.41   \n",
       "4                   259.0          15.8263         0.0               1016.51   \n",
       "\n",
       "                       Daily Summary  \n",
       "0  Partly cloudy throughout the day.  \n",
       "1  Partly cloudy throughout the day.  \n",
       "2  Partly cloudy throughout the day.  \n",
       "3  Partly cloudy throughout the day.  \n",
       "4  Partly cloudy throughout the day.  "
      ]
     },
     "execution_count": 1,
     "metadata": {},
     "output_type": "execute_result"
    }
   ],
   "source": [
    "import numpy as np\n",
    "import pandas as pd\n",
    "\n",
    "df = pd.read_csv(\"weatherHistory.csv\")\n",
    "# print(df.head())\n",
    "print(\"Number of rows:\", df.shape[0])\n",
    "print(\"Number of columns:\", df.shape[1])\n",
    "print(df.columns.tolist())\n",
    "df.dtypes\n",
    "\n",
    "df.head()"
   ]
  },
  {
   "cell_type": "code",
   "execution_count": 2,
   "id": "5a700c03",
   "metadata": {},
   "outputs": [
    {
     "name": "stdout",
     "output_type": "stream",
     "text": [
      "Precip Type\n",
      "snow    10712\n",
      "rain    10000\n",
      "Name: count, dtype: int64\n"
     ]
    }
   ],
   "source": [
    "import pandas as pd\n",
    "\n",
    "# Assuming df is your DataFrame containing the dataset\n",
    "# Subset instances of the majority class (\"rain\")\n",
    "rain_subset = df[df['Precip Type'] == 'rain'].sample(n=10000, random_state=42)\n",
    "\n",
    "# Keep instances of the minority class (\"snow\")\n",
    "snow_instances = df[df['Precip Type'] == 'snow']\n",
    "\n",
    "# Concatenate the subset of rain instances and all snow instances\n",
    "balanced_df = pd.concat([rain_subset, snow_instances])\n",
    "\n",
    "# Shuffle the DataFrame to ensure instances are randomly ordered\n",
    "balanced_df = balanced_df.sample(frac=1, random_state=42)\n",
    "\n",
    "# Check the class distribution in the balanced dataset\n",
    "print(balanced_df['Precip Type'].value_counts())\n",
    "\n",
    "\n",
    "df=balanced_df"
   ]
  },
  {
   "cell_type": "code",
   "execution_count": 3,
   "id": "05750ce9",
   "metadata": {},
   "outputs": [
    {
     "name": "stdout",
     "output_type": "stream",
     "text": [
      "Precip Type\n",
      "snow    10712\n",
      "rain    10000\n",
      "Name: count, dtype: int64\n"
     ]
    }
   ],
   "source": [
    "print(df['Precip Type'].value_counts())"
   ]
  },
  {
   "cell_type": "code",
   "execution_count": 4,
   "id": "d0bcbe69",
   "metadata": {},
   "outputs": [
    {
     "name": "stdout",
     "output_type": "stream",
     "text": [
      "Number of rows with NaN in 'Precip Type': 0\n"
     ]
    }
   ],
   "source": [
    "#let's see no of rows having nan as precip type\n",
    "nan_rows = df[df['Precip Type'].isna()]\n",
    "print(\"Number of rows with NaN in 'Precip Type':\", len(nan_rows))"
   ]
  },
  {
   "cell_type": "code",
   "execution_count": 5,
   "id": "19462fcd",
   "metadata": {},
   "outputs": [
    {
     "name": "stdout",
     "output_type": "stream",
     "text": [
      "Number of rows after dropping NaN values: 20712\n",
      "Number of columns after dropping NaN values: 12\n",
      "['snow' 'rain']\n"
     ]
    }
   ],
   "source": [
    "#I will drop these values as they don't have much impact on the dataset (517 out of 96453 records)\n",
    "df = df.dropna(subset=['Precip Type'])\n",
    "print(\"Number of rows after dropping NaN values:\", df.shape[0])\n",
    "print(\"Number of columns after dropping NaN values:\", df.shape[1])\n",
    "unique_precip = df['Precip Type'].unique()\n",
    "print(unique_precip)"
   ]
  },
  {
   "cell_type": "code",
   "execution_count": 6,
   "id": "dd6e6276",
   "metadata": {},
   "outputs": [
    {
     "name": "stdout",
     "output_type": "stream",
     "text": [
      "                      Formatted Date  Summary  Precip Type  Temperature (C)  \\\n",
      "81122  2015-02-01 05:00:00.000 +0100       16            1        -2.272222   \n",
      "81194  2015-02-12 05:00:00.000 +0100       17            1        -2.088889   \n",
      "72078  2014-12-27 06:00:00.000 +0100        5            1        -2.877778   \n",
      "19927  2008-02-16 07:00:00.000 +0100       15            1        -5.144444   \n",
      "49103  2011-03-15 23:00:00.000 +0100       15            0        11.622222   \n",
      "...                              ...      ...          ...              ...   \n",
      "7872   2006-10-31 00:00:00.000 +0100        5            1        -1.755556   \n",
      "15846  2007-11-28 07:00:00.000 +0100        5            1        -2.166667   \n",
      "55239  2012-02-25 15:00:00.000 +0100       17            0        10.000000   \n",
      "68474  2013-11-29 03:00:00.000 +0100       16            0         1.227778   \n",
      "47001  2011-01-02 09:00:00.000 +0100       10            1        -3.861111   \n",
      "\n",
      "       Apparent Temperature (C)  Humidity  Wind Speed (km/h)  \\\n",
      "81122                 -5.800000      0.96             9.2897   \n",
      "81194                 -2.088889      0.77             4.5563   \n",
      "72078                 -7.072222      0.69            11.2378   \n",
      "19927                -10.833333      0.76            15.4399   \n",
      "49103                 11.622222      0.83            10.5455   \n",
      "...                         ...       ...                ...   \n",
      "7872                  -4.211111      0.79             6.4400   \n",
      "15846                 -6.977778      0.81            14.5705   \n",
      "55239                  6.894444      0.54            25.7600   \n",
      "68474                 -3.277778      0.78            17.3558   \n",
      "47001                 -3.861111      1.00             3.2683   \n",
      "\n",
      "       Wind Bearing (degrees)  Visibility (km)  Loud Cover  \\\n",
      "81122                    31.0          14.6832         0.0   \n",
      "81194                   110.0          14.4900         0.0   \n",
      "72078                   309.0           9.9820         0.0   \n",
      "19927                   311.0           9.9820         0.0   \n",
      "49103                   139.0          15.8263         0.0   \n",
      "...                       ...              ...         ...   \n",
      "7872                    340.0          15.8263         0.0   \n",
      "15846                   289.0           9.9820         0.0   \n",
      "55239                   310.0          11.2700         0.0   \n",
      "68474                   261.0          15.1823         0.0   \n",
      "47001                   224.0           0.9016         0.0   \n",
      "\n",
      "       Pressure (millibars)  Daily Summary  \n",
      "81122                990.92            108  \n",
      "81194               1029.38            200  \n",
      "72078                  0.00             67  \n",
      "19927               1032.59            172  \n",
      "49103               1019.97            108  \n",
      "...                     ...            ...  \n",
      "7872                1025.04            166  \n",
      "15846               1027.48            144  \n",
      "55239               1015.70            197  \n",
      "68474               1024.32            108  \n",
      "47001               1018.49             59  \n",
      "\n",
      "[20712 rows x 12 columns]\n"
     ]
    }
   ],
   "source": [
    "df.dtypes\n",
    "#need to use label encoding \n",
    "from sklearn.preprocessing import LabelEncoder\n",
    "\n",
    "columns_to_encode = ['Summary', 'Precip Type', 'Daily Summary']\n",
    "\n",
    "label_encoder = LabelEncoder()\n",
    "\n",
    "for col in columns_to_encode:\n",
    "    df[col] = label_encoder.fit_transform(df[col])\n",
    "\n",
    "# Print the updated DataFrame\n",
    "print(df)"
   ]
  },
  {
   "cell_type": "code",
   "execution_count": 7,
   "id": "95c5660d",
   "metadata": {},
   "outputs": [
    {
     "name": "stdout",
     "output_type": "stream",
     "text": [
      "Correlation with 'Precip Type':\n",
      "Precip Type                 1.000000\n",
      "Humidity                    0.413900\n",
      "Day                         0.014252\n",
      "Pressure (millibars)        0.012820\n",
      "Wind Bearing (degrees)     -0.062455\n",
      "Year                       -0.074804\n",
      "Wind Speed (km/h)          -0.102720\n",
      "Month                      -0.188602\n",
      "Summary                    -0.191418\n",
      "Daily Summary              -0.388354\n",
      "Visibility (km)            -0.440315\n",
      "Apparent Temperature (C)   -0.809624\n",
      "Temperature (C)            -0.811071\n",
      "Loud Cover                       NaN\n",
      "Name: Precip Type, dtype: float64\n"
     ]
    }
   ],
   "source": [
    "#exclude non-numeric values\n",
    "df['Formatted Date'] = pd.to_datetime(df['Formatted Date'], format='%Y-%m-%d %H:%M:%S.%f %z', utc=True)\n",
    "\n",
    "# Now, you can use the .dt accessor to extract year, month, and day\n",
    "df['Year'] = df['Formatted Date'].dt.year\n",
    "df['Month'] = df['Formatted Date'].dt.month\n",
    "df['Day'] = df['Formatted Date'].dt.day\n",
    "\n",
    "df.drop('Formatted Date', axis=1, inplace=True)\n",
    "target_correlation = df.corr()['Precip Type'].sort_values(ascending=False)\n",
    "print(\"Correlation with 'Precip Type':\")\n",
    "print(target_correlation)"
   ]
  },
  {
   "cell_type": "code",
   "execution_count": 8,
   "id": "80602653",
   "metadata": {},
   "outputs": [
    {
     "data": {
      "image/png": "[encoded data removed]",
      "text/plain": [
       "<Figure size 720x576 with 2 Axes>"
      ]
     },
     "metadata": {
      "needs_background": "light"
     },
     "output_type": "display_data"
    }
   ],
   "source": [
    "import matplotlib.pyplot as plt\n",
    "\n",
    "correlation_matrix = df.corr()\n",
    "\n",
    "plt.figure(figsize=(10, 8))\n",
    "plt.imshow(correlation_matrix, cmap='coolwarm', interpolation='nearest')\n",
    "plt.colorbar(label='Correlation')\n",
    "plt.title(\"Correlation Heatmap\")\n",
    "plt.xticks(range(len(correlation_matrix.columns)), correlation_matrix.columns, rotation=90)\n",
    "plt.yticks(range(len(correlation_matrix.columns)), correlation_matrix.columns)\n",
    "plt.show()"
   ]
  },
  {
   "cell_type": "code",
   "execution_count": 12,
   "id": "f80ce6d9",
   "metadata": {},
   "outputs": [
    {
     "name": "stdout",
     "output_type": "stream",
     "text": [
      "Accuracy: 0.9401399951725803\n",
      "Precision: 0.9037037037037037\n",
      "Recall: 0.9871489766777725\n",
      "F1-score: 0.9435850773430391\n"
     ]
    }
   ],
   "source": [
    "#Naive Bayes model\n",
    "'''\n",
    "Based on the correlation matrix\n",
    "\"Temperature (C)\" and \"Apparent Temperature (C)\" have very negative correlation wrt preciptype\n",
    "\"Humidity\" shows moderate positive correlation\n",
    "Let's consider these 3 parameters for our analysis\n",
    "\n",
    "'''\n",
    "from sklearn.model_selection import train_test_split\n",
    "from sklearn.naive_bayes import GaussianNB\n",
    "from sklearn.metrics import classification_report, accuracy_score\n",
    "from sklearn.metrics import precision_score,f1_score,recall_score\n",
    "\n",
    "X = df[['Apparent Temperature (C)', 'Temperature (C)', 'Humidity']]\n",
    "y = df['Precip Type']\n",
    "\n",
    "#testing,train split\n",
    "X_train, X_test, y_train, y_test = train_test_split(X, y, test_size=0.2, random_state=42)\n",
    "\n",
    "nb_classifier = GaussianNB()\n",
    "\n",
    "nb_classifier.fit(X_train, y_train)\n",
    "\n",
    "y_pred = nb_classifier.predict(X_test)\n",
    "\n",
    "accuracy = accuracy_score(y_test, y_pred)\n",
    "print(\"Accuracy:\", accuracy)\n",
    "\n",
    "# Generate a classification report\n",
    "# print(\"Classification Report:\")\n",
    "# print(classification_report(y_test, y_pred))\n",
    "\n",
    "precision = precision_score(y_test, y_pred)\n",
    "recall = recall_score(y_test,y_pred)\n",
    "f1score = f1_score(y_test,y_pred)\n",
    "\n",
    "\n",
    "# Print precision, recall, and F1-score\n",
    "print(\"Precision:\", precision)\n",
    "print(\"Recall:\", recall)\n",
    "print(\"F1-score:\", f1score)\n"
   ]
  },
  {
   "cell_type": "code",
   "execution_count": 13,
   "id": "f38d2790",
   "metadata": {},
   "outputs": [
    {
     "data": {
      "image/png": "[encoded data removed]",
      "text/plain": [
       "<Figure size 576x432 with 2 Axes>"
      ]
     },
     "metadata": {
      "needs_background": "light"
     },
     "output_type": "display_data"
    }
   ],
   "source": [
    "from sklearn.metrics import confusion_matrix\n",
    "conf_matrix = confusion_matrix(y_test, y_pred)\n",
    "\n",
    "# Plot confusion matrix\n",
    "plt.figure(figsize=(8, 6))\n",
    "plt.imshow(conf_matrix, interpolation='nearest', cmap=plt.cm.Blues)\n",
    "plt.title('Confusion Matrix')\n",
    "plt.colorbar()\n",
    "tick_marks = np.arange(len(['rain', 'snow']))\n",
    "plt.xticks(tick_marks, ['rain', 'snow'])\n",
    "plt.yticks(tick_marks, ['rain', 'snow'])\n",
    "\n",
    "# Add text annotations\n",
    "thresh = conf_matrix.max() / 2.\n",
    "for i in range(conf_matrix.shape[0]):\n",
    "    for j in range(conf_matrix.shape[1]):\n",
    "        plt.text(j, i, format(conf_matrix[i, j], 'd'),\n",
    "                 horizontalalignment=\"center\",\n",
    "                 color=\"white\" if conf_matrix[i, j] > thresh else \"black\")\n",
    "\n",
    "plt.ylabel('True label')\n",
    "plt.xlabel('Predicted label')\n",
    "plt.tight_layout()\n",
    "plt.show()"
   ]
  },
  {
   "cell_type": "code",
   "execution_count": 14,
   "id": "45ba6f80",
   "metadata": {},
   "outputs": [
    {
     "name": "stdout",
     "output_type": "stream",
     "text": [
      "Accuracy: 0.9961380642046826\n",
      "Precision: 0.9924421350968351\n",
      "Recall: 1.0\n",
      "F1-score: 0.9962067330488383\n"
     ]
    }
   ],
   "source": [
    "#let's do a KNN model now\n",
    "from sklearn.metrics import precision_recall_fscore_support\n",
    "from sklearn.neighbors import KNeighborsClassifier\n",
    "\n",
    "knn_classifier = KNeighborsClassifier(n_neighbors=1)\n",
    "\n",
    "knn_classifier.fit(X_train, y_train)\n",
    "\n",
    "y_pred = knn_classifier.predict(X_test)\n",
    "\n",
    "accuracy = accuracy_score(y_test, y_pred)\n",
    "print(\"Accuracy:\", accuracy)\n",
    "\n",
    "# print(\"Classification Report:\")\n",
    "# print(classification_report(y_test, y_pred))\n",
    "\n",
    "precision = precision_score(y_test, y_pred)\n",
    "recall = recall_score(y_test,y_pred)\n",
    "f1score = f1_score(y_test,y_pred)\n",
    "\n",
    "# Print precision, recall, and F1-score\n",
    "print(\"Precision:\", precision)\n",
    "print(\"Recall:\", recall)\n",
    "print(\"F1-score:\", f1score)"
   ]
  },
  {
   "cell_type": "code",
   "execution_count": 15,
   "id": "0032d830",
   "metadata": {},
   "outputs": [
    {
     "data": {
      "image/png": "[encoded data removed]",
      "text/plain": [
       "<Figure size 576x432 with 2 Axes>"
      ]
     },
     "metadata": {
      "needs_background": "light"
     },
     "output_type": "display_data"
    }
   ],
   "source": [
    "conf_matrix = confusion_matrix(y_test, y_pred)\n",
    "\n",
    "# Plot confusion matrix\n",
    "plt.figure(figsize=(8, 6))\n",
    "plt.imshow(conf_matrix, interpolation='nearest', cmap=plt.cm.Blues)\n",
    "plt.title('Confusion Matrix')\n",
    "plt.colorbar()\n",
    "tick_marks = np.arange(len(['rain', 'snow']))\n",
    "plt.xticks(tick_marks, ['rain', 'snow'])\n",
    "plt.yticks(tick_marks, ['rain', 'snow'])\n",
    "\n",
    "# Add text annotations\n",
    "thresh = conf_matrix.max() / 2.\n",
    "for i in range(conf_matrix.shape[0]):\n",
    "    for j in range(conf_matrix.shape[1]):\n",
    "        plt.text(j, i, format(conf_matrix[i, j], 'd'),\n",
    "                 horizontalalignment=\"center\",\n",
    "                 color=\"white\" if conf_matrix[i, j] > thresh else \"black\")\n",
    "\n",
    "plt.ylabel('True label')\n",
    "plt.xlabel('Predicted label')\n",
    "plt.tight_layout()\n",
    "plt.show()"
   ]
  },
  {
   "cell_type": "code",
   "execution_count": 16,
   "id": "d99244e9",
   "metadata": {},
   "outputs": [
    {
     "name": "stdout",
     "output_type": "stream",
     "text": [
      "Accuracy: 0.9925174993965725\n",
      "Precision: 0.9854596622889306\n",
      "Recall: 1.0\n",
      "F1-score: 0.9926765887077723\n"
     ]
    }
   ],
   "source": [
    "#Let us use an SVM model now\n",
    "from sklearn.svm import SVC\n",
    "svm_classifier = SVC(kernel='linear', random_state=42)\n",
    "\n",
    "svm_classifier.fit(X_train, y_train)\n",
    "\n",
    "y_pred = svm_classifier.predict(X_test)\n",
    "\n",
    "accuracy = accuracy_score(y_test, y_pred)\n",
    "print(\"Accuracy:\", accuracy)\n",
    "\n",
    "# print(\"Classification Report:\")\n",
    "# print(classification_report(y_test, y_pred))\n",
    "\n",
    "precision = precision_score(y_test, y_pred)\n",
    "recall = recall_score(y_test,y_pred)\n",
    "f1score = f1_score(y_test,y_pred)\n",
    "\n",
    "# Print precision, recall, and F1-score\n",
    "print(\"Precision:\", precision)\n",
    "print(\"Recall:\", recall)\n",
    "print(\"F1-score:\", f1score)"
   ]
  },
  {
   "cell_type": "code",
   "execution_count": 17,
   "id": "59cc69b6",
   "metadata": {},
   "outputs": [
    {
     "data": {
      "image/png": "[encoded data removed]",
      "text/plain": [
       "<Figure size 576x432 with 2 Axes>"
      ]
     },
     "metadata": {
      "needs_background": "light"
     },
     "output_type": "display_data"
    }
   ],
   "source": [
    "conf_matrix = confusion_matrix(y_test, y_pred)\n",
    "\n",
    "# Plot confusion matrix\n",
    "plt.figure(figsize=(8, 6))\n",
    "plt.imshow(conf_matrix, interpolation='nearest', cmap=plt.cm.Blues)\n",
    "plt.title('Confusion Matrix')\n",
    "plt.colorbar()\n",
    "tick_marks = np.arange(len(['rain', 'snow']))\n",
    "plt.xticks(tick_marks, ['rain', 'snow'])\n",
    "plt.yticks(tick_marks, ['rain', 'snow'])\n",
    "\n",
    "# Add text annotations\n",
    "thresh = conf_matrix.max() / 2.\n",
    "for i in range(conf_matrix.shape[0]):\n",
    "    for j in range(conf_matrix.shape[1]):\n",
    "        plt.text(j, i, format(conf_matrix[i, j], 'd'),\n",
    "                 horizontalalignment=\"center\",\n",
    "                 color=\"white\" if conf_matrix[i, j] > thresh else \"black\")\n",
    "\n",
    "plt.ylabel('True label')\n",
    "plt.xlabel('Predicted label')\n",
    "plt.tight_layout()\n",
    "plt.show()"
   ]
  },
  {
   "cell_type": "code",
   "execution_count": 18,
   "id": "868eb5f5",
   "metadata": {},
   "outputs": [
    {
     "name": "stdout",
     "output_type": "stream",
     "text": [
      "Accuracy: 0.999275887038378\n",
      "Precision: 0.998574144486692\n",
      "Recall: 1.0\n",
      "F1-score: 0.9992865636147443\n"
     ]
    }
   ],
   "source": [
    "#let's use Decision Trees now\n",
    "from sklearn.tree import DecisionTreeClassifier\n",
    "dt_classifier = DecisionTreeClassifier(random_state=42)\n",
    "\n",
    "# Train the classifier on the training data\n",
    "dt_classifier.fit(X_train, y_train)\n",
    "\n",
    "# Predict the labels of the test set\n",
    "y_pred = dt_classifier.predict(X_test)\n",
    "\n",
    "# Evaluate the classifier's performance\n",
    "accuracy = accuracy_score(y_test, y_pred)\n",
    "print(\"Accuracy:\", accuracy)\n",
    "\n",
    "# Generate a classification report\n",
    "# print(\"Classification Report:\")\n",
    "# print(classification_report(y_test, y_pred))\n",
    "precision = precision_score(y_test, y_pred)\n",
    "recall = recall_score(y_test,y_pred)\n",
    "f1score = f1_score(y_test,y_pred)\n",
    "\n",
    "# Print precision, recall, and F1-score\n",
    "print(\"Precision:\", precision)\n",
    "print(\"Recall:\", recall)\n",
    "print(\"F1-score:\", f1score)"
   ]
  },
  {
   "cell_type": "code",
   "execution_count": 19,
   "id": "3d6a9d02",
   "metadata": {},
   "outputs": [
    {
     "data": {
      "image/png": "[encoded data removed]",
      "text/plain": [
       "<Figure size 576x432 with 2 Axes>"
      ]
     },
     "metadata": {
      "needs_background": "light"
     },
     "output_type": "display_data"
    }
   ],
   "source": [
    "\n",
    "import matplotlib.pyplot as plt\n",
    "\n",
    "# Compute confusion matrix\n",
    "conf_matrix = confusion_matrix(y_test, y_pred)\n",
    "\n",
    "# Plot confusion matrix\n",
    "plt.figure(figsize=(8, 6))\n",
    "plt.imshow(conf_matrix, interpolation='nearest', cmap=plt.cm.Blues)\n",
    "plt.title('Confusion Matrix')\n",
    "plt.colorbar()\n",
    "tick_marks = np.arange(len(['rain', 'snow']))\n",
    "plt.xticks(tick_marks, ['rain', 'snow'])\n",
    "plt.yticks(tick_marks, ['rain', 'snow'])\n",
    "\n",
    "# Add text annotations\n",
    "thresh = conf_matrix.max() / 2.\n",
    "for i in range(conf_matrix.shape[0]):\n",
    "    for j in range(conf_matrix.shape[1]):\n",
    "        plt.text(j, i, format(conf_matrix[i, j], 'd'),\n",
    "                 horizontalalignment=\"center\",\n",
    "                 color=\"white\" if conf_matrix[i, j] > thresh else \"black\")\n",
    "\n",
    "plt.ylabel('True label')\n",
    "plt.xlabel('Predicted label')\n",
    "plt.tight_layout()\n",
    "plt.show()"
   ]
  }
 ],
 "metadata": {
  "kernelspec": {
   "display_name": "Python 3 (ipykernel)",
   "language": "python",
   "name": "python3"
  },
  "language_info": {
   "codemirror_mode": {
    "name": "ipython",
    "version": 3
   },
   "file_extension": ".py",
   "mimetype": "text/x-python",
   "name": "python",
   "nbconvert_exporter": "python",
   "pygments_lexer": "ipython3",
   "version": "3.10.2"
  }
 },
 "nbformat": 4,
 "nbformat_minor": 5
}
